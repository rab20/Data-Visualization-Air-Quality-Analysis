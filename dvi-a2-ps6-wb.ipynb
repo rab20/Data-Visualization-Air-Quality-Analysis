{
 "cells": [
  {
   "cell_type": "markdown",
   "metadata": {
    "id": "2YgdUErwBv4p"
   },
   "source": [
    "<img src = \"https://www.bits-pilani.ac.in/Uploads/Campus/BITS_university_logo.gif\">"
   ]
  },
  {
   "cell_type": "markdown",
   "metadata": {
    "id": "sCMobWZQBv48"
   },
   "source": [
    "<h1><center>Work Integrated Learning Programmes Division<br>\n",
    "M.Tech (Data Science and Engineering)<br> Data Visualization And Interpretation (DSECL ZG555))<br>\n",
    "Second Semester, 2021-22\n",
    "</center></h1>\n",
    "\n",
    "<h2><center>Assignment 2 – PS6 [Weightage 13%]</center></h2>"
   ]
  },
  {
   "cell_type": "markdown",
   "metadata": {
    "id": "EBI1_F3OBv5A"
   },
   "source": [
    "## Instructions\n",
    "<ol>\n",
    "  <li>Do not change the name of the data file that is shared with the problem statement.</li>\n",
    "  <li>If intermediate data files are created, retain in the present working directory and attach them during submission.</li>\n",
    "  <li>Retain the data file in the same directory as that of this workbook.</li>\n",
    "  <li>Retain the Visualizations that is produced in the file. Don't clear them away.</li>\n",
    "    <li><div class=\"alert-warning\">All the visuals should adhere to the visualization principles learnt in the Course and must be presentation ready. Most effective visuals would fetch maximum credits</div></li>    \n",
    "    <li><div class=\"alert-warning\">Submissions done via means other than CANVAS will strictly be NOT graded.</div></li>\n",
    "    \n",
    "\n",
    "\n",
    "  \n",
    "</ol>"
   ]
  },
  {
   "cell_type": "markdown",
   "metadata": {
    "id": "JS5MfsFoBv5D"
   },
   "source": [
    "<style>\n",
    "table {\n",
    "  font-family: arial, sans-serif;\n",
    "  border-collapse: collapse;\n",
    "  width: 100%;\n",
    "}\n",
    "\n",
    "td, th {\n",
    "  border: 1px solid #dddddd;\n",
    "  text-align: left;\n",
    "  padding: 8px;\n",
    "}\n",
    "\n",
    "tr:nth-child(even) {\n",
    "  background-color: #dddddd;\n",
    "}\n",
    "</style>\n",
    "\n",
    "<h2>Group No: 125</h2>\n",
    "\n",
    "<table>\n",
    "  <tr>\n",
    "    <th>Full Name</th>\n",
    "    <th>BITS ID</th>\n",
    "  </tr>\n",
    "  <tr>\n",
    "    <td>RITIKA NAIDU</td>\n",
    "    <td>2021FC04595</td>\n",
    "  </tr>\n",
    "  <tr>\n",
    "    <td>KULKARNI NISHANT MOHANRAO</td>\n",
    "    <td>2021FC04362</td>\n",
    "  </tr>\n",
    "  <tr>\n",
    "    <td>R A BHARAT</td>\n",
    "    <td>2021FC04358</td>\n",
    "  </tr>\n",
    "</table>"
   ]
  },
  {
   "cell_type": "markdown",
   "metadata": {
    "id": "KVp0JMM_Bv5F"
   },
   "source": [
    "<h1>Objective</h1>\n",
    "<h4>Analyse the scenario of automobile production in India.</h4>\n"
   ]
  },
  {
   "cell_type": "markdown",
   "metadata": {
    "id": "A3ihmzEcBv5G"
   },
   "source": [
    "##  Download and Prep the Data: 1 Mark"
   ]
  },
  {
   "cell_type": "markdown",
   "metadata": {
    "id": "AtsB7xdMBv5H"
   },
   "source": [
    "<h4>Import the libraries needed</h4>"
   ]
  },
  {
   "cell_type": "code",
   "execution_count": 2,
   "metadata": {
    "id": "23ITpXWiBv5I"
   },
   "outputs": [],
   "source": [
    "import pandas as pd\n",
    "import numpy as np\n",
    "import matplotlib.pyplot as plt\n",
    "import seaborn as sns"
   ]
  },
  {
   "cell_type": "markdown",
   "metadata": {
    "id": "2UwMFDAiBv5J"
   },
   "source": [
    "<h4> Load data and store in dataframe </h4>"
   ]
  },
  {
   "cell_type": "code",
   "execution_count": 3,
   "metadata": {
    "id": "ZR-V1h8PBv5N"
   },
   "outputs": [],
   "source": [
    "df = pd.read_csv(\"dvi-a2-ps6-data.csv\")"
   ]
  },
  {
   "cell_type": "code",
   "execution_count": 4,
   "metadata": {},
   "outputs": [
    {
     "data": {
      "text/plain": [
       "(19, 14)"
      ]
     },
     "execution_count": 4,
     "metadata": {},
     "output_type": "execute_result"
    }
   ],
   "source": [
    "df.shape"
   ]
  },
  {
   "cell_type": "markdown",
   "metadata": {
    "id": "bF_8WPPFBv5O"
   },
   "source": [
    "<h4>Find out  what type of variables you are dealing with. This will help you find the right visualization method for that variable.</p>\n"
   ]
  },
  {
   "cell_type": "code",
   "execution_count": 149,
   "metadata": {
    "id": "zzDBkl6lBv5Q"
   },
   "outputs": [
    {
     "name": "stdout",
     "output_type": "stream",
     "text": [
      "<class 'pandas.core.frame.DataFrame'>\n",
      "RangeIndex: 19 entries, 0 to 18\n",
      "Data columns (total 14 columns):\n",
      " #   Column    Non-Null Count  Dtype  \n",
      "---  ------    --------------  -----  \n",
      " 0   Category  19 non-null     object \n",
      " 1   Segment   19 non-null     object \n",
      " 2   2001-02   18 non-null     float64\n",
      " 3   2002-03   18 non-null     float64\n",
      " 4   2003-04   18 non-null     float64\n",
      " 5   2004-05   18 non-null     float64\n",
      " 6   2005-06   18 non-null     float64\n",
      " 7   2006-07   19 non-null     int64  \n",
      " 8   2007-08   19 non-null     int64  \n",
      " 9   2008-09   19 non-null     int64  \n",
      " 10  2009-10   19 non-null     int64  \n",
      " 11  2010-11   12 non-null     float64\n",
      " 12  2011-12   12 non-null     float64\n",
      " 13  2012-13   12 non-null     float64\n",
      "dtypes: float64(8), int64(4), object(2)\n",
      "memory usage: 2.2+ KB\n"
     ]
    }
   ],
   "source": [
    "df.info()"
   ]
  },
  {
   "cell_type": "code",
   "execution_count": 5,
   "metadata": {},
   "outputs": [
    {
     "name": "stdout",
     "output_type": "stream",
     "text": [
      "Numerical Features are:  ['2001-02', '2002-03', '2003-04', '2004-05', '2005-06', '2006-07', '2007-08', '2008-09', '2009-10', '2010-11', '2011-12', '2012-13']\n",
      "Categorical Features are:  ['Category', 'Segment']\n"
     ]
    }
   ],
   "source": [
    "numerical_features = [f for f in df.columns if df[f].dtypes!='O']\n",
    "print(\"Numerical Features are: \",numerical_features)\n",
    "\n",
    "categorical_features = [f for f in df.columns if df[f].dtypes=='O']\n",
    "print(\"Categorical Features are: \",categorical_features)"
   ]
  },
  {
   "cell_type": "markdown",
   "metadata": {
    "id": "WGXp0ODBBv5Q"
   },
   "source": [
    "<h4>Perform data cleaning and mention the steps</h4>"
   ]
  },
  {
   "cell_type": "markdown",
   "metadata": {},
   "source": [
    "There are few records in the dataset. So, they can be analysed manually. A first glance at the data indicates that there are subtotals included as rows within the dataset."
   ]
  },
  {
   "cell_type": "code",
   "execution_count": 5,
   "metadata": {
    "id": "-GCVoLO2Bv5R"
   },
   "outputs": [
    {
     "data": {
      "text/html": [
       "<div>\n",
       "<style scoped>\n",
       "    .dataframe tbody tr th:only-of-type {\n",
       "        vertical-align: middle;\n",
       "    }\n",
       "\n",
       "    .dataframe tbody tr th {\n",
       "        vertical-align: top;\n",
       "    }\n",
       "\n",
       "    .dataframe thead th {\n",
       "        text-align: right;\n",
       "    }\n",
       "</style>\n",
       "<table border=\"1\" class=\"dataframe\">\n",
       "  <thead>\n",
       "    <tr style=\"text-align: right;\">\n",
       "      <th></th>\n",
       "      <th>Column</th>\n",
       "      <th>Total_Count</th>\n",
       "      <th>Null_Count</th>\n",
       "      <th>Null_percentage</th>\n",
       "      <th>Distinct_Count</th>\n",
       "      <th>Distinct_percentage</th>\n",
       "    </tr>\n",
       "  </thead>\n",
       "  <tbody>\n",
       "    <tr>\n",
       "      <th>0</th>\n",
       "      <td>Category</td>\n",
       "      <td>19</td>\n",
       "      <td>0</td>\n",
       "      <td>0.00</td>\n",
       "      <td>7</td>\n",
       "      <td>36.84</td>\n",
       "    </tr>\n",
       "    <tr>\n",
       "      <th>1</th>\n",
       "      <td>Segment</td>\n",
       "      <td>19</td>\n",
       "      <td>0</td>\n",
       "      <td>0.00</td>\n",
       "      <td>15</td>\n",
       "      <td>78.95</td>\n",
       "    </tr>\n",
       "    <tr>\n",
       "      <th>2</th>\n",
       "      <td>2001-02</td>\n",
       "      <td>19</td>\n",
       "      <td>1</td>\n",
       "      <td>5.26</td>\n",
       "      <td>19</td>\n",
       "      <td>100.00</td>\n",
       "    </tr>\n",
       "    <tr>\n",
       "      <th>3</th>\n",
       "      <td>2002-03</td>\n",
       "      <td>19</td>\n",
       "      <td>1</td>\n",
       "      <td>5.26</td>\n",
       "      <td>19</td>\n",
       "      <td>100.00</td>\n",
       "    </tr>\n",
       "    <tr>\n",
       "      <th>4</th>\n",
       "      <td>2003-04</td>\n",
       "      <td>19</td>\n",
       "      <td>1</td>\n",
       "      <td>5.26</td>\n",
       "      <td>19</td>\n",
       "      <td>100.00</td>\n",
       "    </tr>\n",
       "    <tr>\n",
       "      <th>5</th>\n",
       "      <td>2004-05</td>\n",
       "      <td>19</td>\n",
       "      <td>1</td>\n",
       "      <td>5.26</td>\n",
       "      <td>19</td>\n",
       "      <td>100.00</td>\n",
       "    </tr>\n",
       "    <tr>\n",
       "      <th>6</th>\n",
       "      <td>2005-06</td>\n",
       "      <td>19</td>\n",
       "      <td>1</td>\n",
       "      <td>5.26</td>\n",
       "      <td>19</td>\n",
       "      <td>100.00</td>\n",
       "    </tr>\n",
       "    <tr>\n",
       "      <th>7</th>\n",
       "      <td>2006-07</td>\n",
       "      <td>19</td>\n",
       "      <td>0</td>\n",
       "      <td>0.00</td>\n",
       "      <td>19</td>\n",
       "      <td>100.00</td>\n",
       "    </tr>\n",
       "    <tr>\n",
       "      <th>8</th>\n",
       "      <td>2007-08</td>\n",
       "      <td>19</td>\n",
       "      <td>0</td>\n",
       "      <td>0.00</td>\n",
       "      <td>19</td>\n",
       "      <td>100.00</td>\n",
       "    </tr>\n",
       "    <tr>\n",
       "      <th>9</th>\n",
       "      <td>2008-09</td>\n",
       "      <td>19</td>\n",
       "      <td>0</td>\n",
       "      <td>0.00</td>\n",
       "      <td>19</td>\n",
       "      <td>100.00</td>\n",
       "    </tr>\n",
       "    <tr>\n",
       "      <th>10</th>\n",
       "      <td>2009-10</td>\n",
       "      <td>19</td>\n",
       "      <td>0</td>\n",
       "      <td>0.00</td>\n",
       "      <td>19</td>\n",
       "      <td>100.00</td>\n",
       "    </tr>\n",
       "    <tr>\n",
       "      <th>11</th>\n",
       "      <td>2010-11</td>\n",
       "      <td>19</td>\n",
       "      <td>7</td>\n",
       "      <td>36.84</td>\n",
       "      <td>13</td>\n",
       "      <td>68.42</td>\n",
       "    </tr>\n",
       "    <tr>\n",
       "      <th>12</th>\n",
       "      <td>2011-12</td>\n",
       "      <td>19</td>\n",
       "      <td>7</td>\n",
       "      <td>36.84</td>\n",
       "      <td>13</td>\n",
       "      <td>68.42</td>\n",
       "    </tr>\n",
       "    <tr>\n",
       "      <th>13</th>\n",
       "      <td>2012-13</td>\n",
       "      <td>19</td>\n",
       "      <td>7</td>\n",
       "      <td>36.84</td>\n",
       "      <td>13</td>\n",
       "      <td>68.42</td>\n",
       "    </tr>\n",
       "  </tbody>\n",
       "</table>\n",
       "</div>"
      ],
      "text/plain": [
       "      Column  Total_Count  Null_Count  Null_percentage  Distinct_Count  \\\n",
       "0   Category           19           0             0.00               7   \n",
       "1    Segment           19           0             0.00              15   \n",
       "2    2001-02           19           1             5.26              19   \n",
       "3    2002-03           19           1             5.26              19   \n",
       "4    2003-04           19           1             5.26              19   \n",
       "5    2004-05           19           1             5.26              19   \n",
       "6    2005-06           19           1             5.26              19   \n",
       "7    2006-07           19           0             0.00              19   \n",
       "8    2007-08           19           0             0.00              19   \n",
       "9    2008-09           19           0             0.00              19   \n",
       "10   2009-10           19           0             0.00              19   \n",
       "11   2010-11           19           7            36.84              13   \n",
       "12   2011-12           19           7            36.84              13   \n",
       "13   2012-13           19           7            36.84              13   \n",
       "\n",
       "    Distinct_percentage  \n",
       "0                 36.84  \n",
       "1                 78.95  \n",
       "2                100.00  \n",
       "3                100.00  \n",
       "4                100.00  \n",
       "5                100.00  \n",
       "6                100.00  \n",
       "7                100.00  \n",
       "8                100.00  \n",
       "9                100.00  \n",
       "10               100.00  \n",
       "11                68.42  \n",
       "12                68.42  \n",
       "13                68.42  "
      ]
     },
     "execution_count": 5,
     "metadata": {},
     "output_type": "execute_result"
    }
   ],
   "source": [
    "pd.DataFrame().from_records([{\"Column\":col,\n",
    "                              \"Total_Count\": len(df), \n",
    "                              \"Null_Count\":df[col].isna().sum(),\n",
    "                              \"Null_percentage\":np.round(df[col].isna().sum()/len(df), 4)*100, \n",
    "                              \"Distinct_Count\":len(df[col].unique()), \n",
    "                              \"Distinct_percentage\":np.round(len(df[col].unique())/len(df), 4)*100, \n",
    "                              } for col in df.columns\n",
    "                            ])"
   ]
  },
  {
   "cell_type": "markdown",
   "metadata": {},
   "source": [
    "#### Electric two wheelers are null mostly. Hence we can drop this segment from the dataset and update the totals for the three years where this value was present."
   ]
  },
  {
   "cell_type": "code",
   "execution_count": 6,
   "metadata": {},
   "outputs": [
    {
     "data": {
      "text/html": [
       "<div>\n",
       "<style scoped>\n",
       "    .dataframe tbody tr th:only-of-type {\n",
       "        vertical-align: middle;\n",
       "    }\n",
       "\n",
       "    .dataframe tbody tr th {\n",
       "        vertical-align: top;\n",
       "    }\n",
       "\n",
       "    .dataframe thead th {\n",
       "        text-align: right;\n",
       "    }\n",
       "</style>\n",
       "<table border=\"1\" class=\"dataframe\">\n",
       "  <thead>\n",
       "    <tr style=\"text-align: right;\">\n",
       "      <th></th>\n",
       "      <th>Category</th>\n",
       "      <th>Segment</th>\n",
       "      <th>2001-02</th>\n",
       "      <th>2002-03</th>\n",
       "      <th>2003-04</th>\n",
       "      <th>2004-05</th>\n",
       "      <th>2005-06</th>\n",
       "      <th>2006-07</th>\n",
       "      <th>2007-08</th>\n",
       "      <th>2008-09</th>\n",
       "      <th>2009-10</th>\n",
       "      <th>2010-11</th>\n",
       "      <th>2011-12</th>\n",
       "      <th>2012-13</th>\n",
       "    </tr>\n",
       "  </thead>\n",
       "  <tbody>\n",
       "    <tr>\n",
       "      <th>16</th>\n",
       "      <td>Two wheelers</td>\n",
       "      <td>Electric Two Wheelers</td>\n",
       "      <td>NaN</td>\n",
       "      <td>NaN</td>\n",
       "      <td>NaN</td>\n",
       "      <td>NaN</td>\n",
       "      <td>NaN</td>\n",
       "      <td>30454</td>\n",
       "      <td>17389</td>\n",
       "      <td>24179</td>\n",
       "      <td>2567</td>\n",
       "      <td>NaN</td>\n",
       "      <td>NaN</td>\n",
       "      <td>NaN</td>\n",
       "    </tr>\n",
       "  </tbody>\n",
       "</table>\n",
       "</div>"
      ],
      "text/plain": [
       "        Category                Segment  2001-02  2002-03  2003-04  2004-05  \\\n",
       "16  Two wheelers  Electric Two Wheelers      NaN      NaN      NaN      NaN   \n",
       "\n",
       "    2005-06  2006-07  2007-08  2008-09  2009-10  2010-11  2011-12  2012-13  \n",
       "16      NaN    30454    17389    24179     2567      NaN      NaN      NaN  "
      ]
     },
     "execution_count": 6,
     "metadata": {},
     "output_type": "execute_result"
    }
   ],
   "source": [
    "df[df['Segment']=='Electric Two Wheelers']"
   ]
  },
  {
   "cell_type": "code",
   "execution_count": 7,
   "metadata": {},
   "outputs": [
    {
     "data": {
      "text/html": [
       "<div>\n",
       "<style scoped>\n",
       "    .dataframe tbody tr th:only-of-type {\n",
       "        vertical-align: middle;\n",
       "    }\n",
       "\n",
       "    .dataframe tbody tr th {\n",
       "        vertical-align: top;\n",
       "    }\n",
       "\n",
       "    .dataframe thead th {\n",
       "        text-align: right;\n",
       "    }\n",
       "</style>\n",
       "<table border=\"1\" class=\"dataframe\">\n",
       "  <thead>\n",
       "    <tr style=\"text-align: right;\">\n",
       "      <th></th>\n",
       "      <th>Category</th>\n",
       "      <th>Segment</th>\n",
       "      <th>2001-02</th>\n",
       "      <th>2002-03</th>\n",
       "      <th>2003-04</th>\n",
       "      <th>2004-05</th>\n",
       "      <th>2005-06</th>\n",
       "      <th>2006-07</th>\n",
       "      <th>2007-08</th>\n",
       "      <th>2008-09</th>\n",
       "      <th>2009-10</th>\n",
       "      <th>2010-11</th>\n",
       "      <th>2011-12</th>\n",
       "      <th>2012-13</th>\n",
       "    </tr>\n",
       "  </thead>\n",
       "  <tbody>\n",
       "    <tr>\n",
       "      <th>17</th>\n",
       "      <td>Two wheelers</td>\n",
       "      <td>Total Two wheelers</td>\n",
       "      <td>4271327.0</td>\n",
       "      <td>5076221.0</td>\n",
       "      <td>5622741.0</td>\n",
       "      <td>6529829.0</td>\n",
       "      <td>7608697.0</td>\n",
       "      <td>8466640</td>\n",
       "      <td>8026681</td>\n",
       "      <td>8419792</td>\n",
       "      <td>10512903</td>\n",
       "      <td>13376451.0</td>\n",
       "      <td>15427532.0</td>\n",
       "      <td>15721180.0</td>\n",
       "    </tr>\n",
       "  </tbody>\n",
       "</table>\n",
       "</div>"
      ],
      "text/plain": [
       "        Category             Segment    2001-02    2002-03    2003-04  \\\n",
       "17  Two wheelers  Total Two wheelers  4271327.0  5076221.0  5622741.0   \n",
       "\n",
       "      2004-05    2005-06  2006-07  2007-08  2008-09   2009-10     2010-11  \\\n",
       "17  6529829.0  7608697.0  8466640  8026681  8419792  10512903  13376451.0   \n",
       "\n",
       "       2011-12     2012-13  \n",
       "17  15427532.0  15721180.0  "
      ]
     },
     "execution_count": 7,
     "metadata": {},
     "output_type": "execute_result"
    }
   ],
   "source": [
    "df[df['Segment']=='Total Two wheelers']"
   ]
  },
  {
   "cell_type": "code",
   "execution_count": 8,
   "metadata": {},
   "outputs": [],
   "source": [
    "df.loc[17,'2006-07'] = df.loc[17,'2006-07']-df.loc[16,'2006-07']\n",
    "df.loc[17,'2007-08'] = df.loc[17,'2007-08']-df.loc[16,'2007-08']\n",
    "df.loc[17,'2008-09'] = df.loc[17,'2008-09']-df.loc[16,'2008-09']\n",
    "df.loc[17,'2009-10'] = df.loc[17,'2009-10']-df.loc[16,'2009-10']"
   ]
  },
  {
   "cell_type": "code",
   "execution_count": 9,
   "metadata": {},
   "outputs": [
    {
     "data": {
      "text/html": [
       "<div>\n",
       "<style scoped>\n",
       "    .dataframe tbody tr th:only-of-type {\n",
       "        vertical-align: middle;\n",
       "    }\n",
       "\n",
       "    .dataframe tbody tr th {\n",
       "        vertical-align: top;\n",
       "    }\n",
       "\n",
       "    .dataframe thead th {\n",
       "        text-align: right;\n",
       "    }\n",
       "</style>\n",
       "<table border=\"1\" class=\"dataframe\">\n",
       "  <thead>\n",
       "    <tr style=\"text-align: right;\">\n",
       "      <th></th>\n",
       "      <th>Category</th>\n",
       "      <th>Segment</th>\n",
       "      <th>2001-02</th>\n",
       "      <th>2002-03</th>\n",
       "      <th>2003-04</th>\n",
       "      <th>2004-05</th>\n",
       "      <th>2005-06</th>\n",
       "      <th>2006-07</th>\n",
       "      <th>2007-08</th>\n",
       "      <th>2008-09</th>\n",
       "      <th>2009-10</th>\n",
       "      <th>2010-11</th>\n",
       "      <th>2011-12</th>\n",
       "      <th>2012-13</th>\n",
       "    </tr>\n",
       "  </thead>\n",
       "  <tbody>\n",
       "    <tr>\n",
       "      <th>17</th>\n",
       "      <td>Two wheelers</td>\n",
       "      <td>Total Two wheelers</td>\n",
       "      <td>4271327.0</td>\n",
       "      <td>5076221.0</td>\n",
       "      <td>5622741.0</td>\n",
       "      <td>6529829.0</td>\n",
       "      <td>7608697.0</td>\n",
       "      <td>8436186</td>\n",
       "      <td>8009292</td>\n",
       "      <td>8395613</td>\n",
       "      <td>10510336</td>\n",
       "      <td>13376451.0</td>\n",
       "      <td>15427532.0</td>\n",
       "      <td>15721180.0</td>\n",
       "    </tr>\n",
       "  </tbody>\n",
       "</table>\n",
       "</div>"
      ],
      "text/plain": [
       "        Category             Segment    2001-02    2002-03    2003-04  \\\n",
       "17  Two wheelers  Total Two wheelers  4271327.0  5076221.0  5622741.0   \n",
       "\n",
       "      2004-05    2005-06  2006-07  2007-08  2008-09   2009-10     2010-11  \\\n",
       "17  6529829.0  7608697.0  8436186  8009292  8395613  10510336  13376451.0   \n",
       "\n",
       "       2011-12     2012-13  \n",
       "17  15427532.0  15721180.0  "
      ]
     },
     "execution_count": 9,
     "metadata": {},
     "output_type": "execute_result"
    }
   ],
   "source": [
    "df[df['Segment']=='Total Two wheelers']"
   ]
  },
  {
   "cell_type": "code",
   "execution_count": 10,
   "metadata": {},
   "outputs": [],
   "source": [
    "df.drop(df[df['Segment']=='Electric Two Wheelers'].index, inplace=True)"
   ]
  },
  {
   "cell_type": "markdown",
   "metadata": {},
   "source": [
    "Converting the years from columns to rows, to be able to visualize the data effectively."
   ]
  },
  {
   "cell_type": "code",
   "execution_count": 11,
   "metadata": {},
   "outputs": [],
   "source": [
    "df = df.melt(id_vars=[\"Category\", \"Segment\"], \n",
    "        var_name=\"Year\", \n",
    "        value_name=\"Num_of_Units\")"
   ]
  },
  {
   "cell_type": "code",
   "execution_count": 189,
   "metadata": {},
   "outputs": [
    {
     "name": "stdout",
     "output_type": "stream",
     "text": [
      "<class 'pandas.core.frame.DataFrame'>\n",
      "RangeIndex: 216 entries, 0 to 215\n",
      "Data columns (total 4 columns):\n",
      " #   Column        Non-Null Count  Dtype  \n",
      "---  ------        --------------  -----  \n",
      " 0   Category      216 non-null    object \n",
      " 1   Segment       216 non-null    object \n",
      " 2   Year          216 non-null    object \n",
      " 3   Num_of_Units  198 non-null    float64\n",
      "dtypes: float64(1), object(3)\n",
      "memory usage: 6.9+ KB\n"
     ]
    }
   ],
   "source": [
    "df.info()"
   ]
  },
  {
   "cell_type": "code",
   "execution_count": 24,
   "metadata": {},
   "outputs": [],
   "source": [
    "df.to_csv(\"Pivoted.csv\")"
   ]
  },
  {
   "cell_type": "markdown",
   "metadata": {},
   "source": [
    " The data contains few null values, but totals are not null. So let's split the dataset into totals and other rows."
   ]
  },
  {
   "cell_type": "code",
   "execution_count": 12,
   "metadata": {
    "scrolled": true
   },
   "outputs": [
    {
     "data": {
      "text/html": [
       "<div>\n",
       "<style scoped>\n",
       "    .dataframe tbody tr th:only-of-type {\n",
       "        vertical-align: middle;\n",
       "    }\n",
       "\n",
       "    .dataframe tbody tr th {\n",
       "        vertical-align: top;\n",
       "    }\n",
       "\n",
       "    .dataframe thead th {\n",
       "        text-align: right;\n",
       "    }\n",
       "</style>\n",
       "<table border=\"1\" class=\"dataframe\">\n",
       "  <thead>\n",
       "    <tr style=\"text-align: right;\">\n",
       "      <th></th>\n",
       "      <th>Category</th>\n",
       "      <th>Segment</th>\n",
       "      <th>Year</th>\n",
       "      <th>Num_of_Units</th>\n",
       "    </tr>\n",
       "  </thead>\n",
       "  <tbody>\n",
       "    <tr>\n",
       "      <th>0</th>\n",
       "      <td>Passenger Vehicles (PVs)</td>\n",
       "      <td>Passenger Cars</td>\n",
       "      <td>2001-02</td>\n",
       "      <td>500301.0</td>\n",
       "    </tr>\n",
       "    <tr>\n",
       "      <th>1</th>\n",
       "      <td>Passenger Vehicles (PVs)</td>\n",
       "      <td>Multi-Utility Vehicles</td>\n",
       "      <td>2001-02</td>\n",
       "      <td>169418.0</td>\n",
       "    </tr>\n",
       "    <tr>\n",
       "      <th>3</th>\n",
       "      <td>Commercial Vehicles (CVs) M &amp; HCVs</td>\n",
       "      <td>Passenger Carriers</td>\n",
       "      <td>2001-02</td>\n",
       "      <td>20283.0</td>\n",
       "    </tr>\n",
       "    <tr>\n",
       "      <th>4</th>\n",
       "      <td>Commercial Vehicles (CVs) M &amp; HCVs</td>\n",
       "      <td>Goods Carriers</td>\n",
       "      <td>2001-02</td>\n",
       "      <td>76469.0</td>\n",
       "    </tr>\n",
       "    <tr>\n",
       "      <th>6</th>\n",
       "      <td>LCVs</td>\n",
       "      <td>Passenger Carriers</td>\n",
       "      <td>2001-02</td>\n",
       "      <td>14977.0</td>\n",
       "    </tr>\n",
       "    <tr>\n",
       "      <th>...</th>\n",
       "      <td>...</td>\n",
       "      <td>...</td>\n",
       "      <td>...</td>\n",
       "      <td>...</td>\n",
       "    </tr>\n",
       "    <tr>\n",
       "      <th>208</th>\n",
       "      <td>Three Wheelers</td>\n",
       "      <td>Passenger Carriers</td>\n",
       "      <td>2012-13</td>\n",
       "      <td>NaN</td>\n",
       "    </tr>\n",
       "    <tr>\n",
       "      <th>209</th>\n",
       "      <td>Three Wheelers</td>\n",
       "      <td>Goods Carriers</td>\n",
       "      <td>2012-13</td>\n",
       "      <td>NaN</td>\n",
       "    </tr>\n",
       "    <tr>\n",
       "      <th>211</th>\n",
       "      <td>Two wheelers</td>\n",
       "      <td>Scooter/Scooterettee</td>\n",
       "      <td>2012-13</td>\n",
       "      <td>3025014.0</td>\n",
       "    </tr>\n",
       "    <tr>\n",
       "      <th>212</th>\n",
       "      <td>Two wheelers</td>\n",
       "      <td>Motorcycles/Step-Throughs</td>\n",
       "      <td>2012-13</td>\n",
       "      <td>11904212.0</td>\n",
       "    </tr>\n",
       "    <tr>\n",
       "      <th>213</th>\n",
       "      <td>Two wheelers</td>\n",
       "      <td>Mopeds</td>\n",
       "      <td>2012-13</td>\n",
       "      <td>791954.0</td>\n",
       "    </tr>\n",
       "  </tbody>\n",
       "</table>\n",
       "<p>132 rows × 4 columns</p>\n",
       "</div>"
      ],
      "text/plain": [
       "                               Category                    Segment     Year  \\\n",
       "0              Passenger Vehicles (PVs)             Passenger Cars  2001-02   \n",
       "1              Passenger Vehicles (PVs)     Multi-Utility Vehicles  2001-02   \n",
       "3    Commercial Vehicles (CVs) M & HCVs         Passenger Carriers  2001-02   \n",
       "4    Commercial Vehicles (CVs) M & HCVs             Goods Carriers  2001-02   \n",
       "6                                  LCVs         Passenger Carriers  2001-02   \n",
       "..                                  ...                        ...      ...   \n",
       "208                      Three Wheelers         Passenger Carriers  2012-13   \n",
       "209                      Three Wheelers             Goods Carriers  2012-13   \n",
       "211                        Two wheelers       Scooter/Scooterettee  2012-13   \n",
       "212                        Two wheelers  Motorcycles/Step-Throughs  2012-13   \n",
       "213                        Two wheelers                     Mopeds  2012-13   \n",
       "\n",
       "     Num_of_Units  \n",
       "0        500301.0  \n",
       "1        169418.0  \n",
       "3         20283.0  \n",
       "4         76469.0  \n",
       "6         14977.0  \n",
       "..            ...  \n",
       "208           NaN  \n",
       "209           NaN  \n",
       "211     3025014.0  \n",
       "212    11904212.0  \n",
       "213      791954.0  \n",
       "\n",
       "[132 rows x 4 columns]"
      ]
     },
     "execution_count": 12,
     "metadata": {},
     "output_type": "execute_result"
    }
   ],
   "source": [
    "df_without_totals = df[~df['Segment'].str.contains('Total')]\n",
    "df_without_totals"
   ]
  },
  {
   "cell_type": "code",
   "execution_count": 13,
   "metadata": {},
   "outputs": [
    {
     "data": {
      "text/html": [
       "<div>\n",
       "<style scoped>\n",
       "    .dataframe tbody tr th:only-of-type {\n",
       "        vertical-align: middle;\n",
       "    }\n",
       "\n",
       "    .dataframe tbody tr th {\n",
       "        vertical-align: top;\n",
       "    }\n",
       "\n",
       "    .dataframe thead th {\n",
       "        text-align: right;\n",
       "    }\n",
       "</style>\n",
       "<table border=\"1\" class=\"dataframe\">\n",
       "  <thead>\n",
       "    <tr style=\"text-align: right;\">\n",
       "      <th></th>\n",
       "      <th>Column</th>\n",
       "      <th>Total_Count_excluding_totals</th>\n",
       "      <th>Null_Count</th>\n",
       "      <th>Null_percentage</th>\n",
       "      <th>Distinct_Count</th>\n",
       "      <th>Distinct_percentage</th>\n",
       "    </tr>\n",
       "  </thead>\n",
       "  <tbody>\n",
       "    <tr>\n",
       "      <th>0</th>\n",
       "      <td>Category</td>\n",
       "      <td>132</td>\n",
       "      <td>0</td>\n",
       "      <td>0.00</td>\n",
       "      <td>5</td>\n",
       "      <td>3.79</td>\n",
       "    </tr>\n",
       "    <tr>\n",
       "      <th>1</th>\n",
       "      <td>Segment</td>\n",
       "      <td>132</td>\n",
       "      <td>0</td>\n",
       "      <td>0.00</td>\n",
       "      <td>7</td>\n",
       "      <td>5.30</td>\n",
       "    </tr>\n",
       "    <tr>\n",
       "      <th>2</th>\n",
       "      <td>Year</td>\n",
       "      <td>132</td>\n",
       "      <td>0</td>\n",
       "      <td>0.00</td>\n",
       "      <td>12</td>\n",
       "      <td>9.09</td>\n",
       "    </tr>\n",
       "    <tr>\n",
       "      <th>3</th>\n",
       "      <td>Num_of_Units</td>\n",
       "      <td>132</td>\n",
       "      <td>18</td>\n",
       "      <td>13.64</td>\n",
       "      <td>115</td>\n",
       "      <td>87.12</td>\n",
       "    </tr>\n",
       "  </tbody>\n",
       "</table>\n",
       "</div>"
      ],
      "text/plain": [
       "         Column  Total_Count_excluding_totals  Null_Count  Null_percentage  \\\n",
       "0      Category                           132           0             0.00   \n",
       "1       Segment                           132           0             0.00   \n",
       "2          Year                           132           0             0.00   \n",
       "3  Num_of_Units                           132          18            13.64   \n",
       "\n",
       "   Distinct_Count  Distinct_percentage  \n",
       "0               5                 3.79  \n",
       "1               7                 5.30  \n",
       "2              12                 9.09  \n",
       "3             115                87.12  "
      ]
     },
     "execution_count": 13,
     "metadata": {},
     "output_type": "execute_result"
    }
   ],
   "source": [
    "pd.DataFrame().from_records([{\"Column\":col,\n",
    "                              \"Total_Count_excluding_totals\": len(df_without_totals), \n",
    "                              \"Null_Count\":df_without_totals[col].isna().sum(),\n",
    "                              \"Null_percentage\":np.round(df_without_totals[col].isna().sum()/len(df_without_totals), 4)*100, \n",
    "                              \"Distinct_Count\":len(df_without_totals[col].unique()), \n",
    "                              \"Distinct_percentage\":np.round(len(df_without_totals[col].unique())/len(df_without_totals), 4)*100, \n",
    "                              } for col in df_without_totals.columns\n",
    "                            ])"
   ]
  },
  {
   "cell_type": "code",
   "execution_count": 14,
   "metadata": {},
   "outputs": [
    {
     "data": {
      "text/html": [
       "<div>\n",
       "<style scoped>\n",
       "    .dataframe tbody tr th:only-of-type {\n",
       "        vertical-align: middle;\n",
       "    }\n",
       "\n",
       "    .dataframe tbody tr th {\n",
       "        vertical-align: top;\n",
       "    }\n",
       "\n",
       "    .dataframe thead th {\n",
       "        text-align: right;\n",
       "    }\n",
       "</style>\n",
       "<table border=\"1\" class=\"dataframe\">\n",
       "  <thead>\n",
       "    <tr style=\"text-align: right;\">\n",
       "      <th></th>\n",
       "      <th>Category</th>\n",
       "      <th>Segment</th>\n",
       "      <th>Year</th>\n",
       "      <th>Num_of_Units</th>\n",
       "    </tr>\n",
       "  </thead>\n",
       "  <tbody>\n",
       "    <tr>\n",
       "      <th>2</th>\n",
       "      <td>Passenger Vehicles (PVs)</td>\n",
       "      <td>Total Passenger Vehicles (PVs)</td>\n",
       "      <td>2001-02</td>\n",
       "      <td>669719.0</td>\n",
       "    </tr>\n",
       "    <tr>\n",
       "      <th>5</th>\n",
       "      <td>Commercial Vehicles (CVs) M &amp; HCVs</td>\n",
       "      <td>Total M &amp; HCVs</td>\n",
       "      <td>2001-02</td>\n",
       "      <td>96752.0</td>\n",
       "    </tr>\n",
       "    <tr>\n",
       "      <th>8</th>\n",
       "      <td>LCVs</td>\n",
       "      <td>Total LCVs</td>\n",
       "      <td>2001-02</td>\n",
       "      <td>65756.0</td>\n",
       "    </tr>\n",
       "    <tr>\n",
       "      <th>9</th>\n",
       "      <td>Total Commercial Vehicles (CVs)</td>\n",
       "      <td>Total Commercial Vehicles (CVs)</td>\n",
       "      <td>2001-02</td>\n",
       "      <td>162508.0</td>\n",
       "    </tr>\n",
       "    <tr>\n",
       "      <th>12</th>\n",
       "      <td>Three Wheelers</td>\n",
       "      <td>Total Three Wheelers</td>\n",
       "      <td>2001-02</td>\n",
       "      <td>212748.0</td>\n",
       "    </tr>\n",
       "    <tr>\n",
       "      <th>...</th>\n",
       "      <td>...</td>\n",
       "      <td>...</td>\n",
       "      <td>...</td>\n",
       "      <td>...</td>\n",
       "    </tr>\n",
       "    <tr>\n",
       "      <th>206</th>\n",
       "      <td>LCVs</td>\n",
       "      <td>Total LCVs</td>\n",
       "      <td>2012-13</td>\n",
       "      <td>553184.0</td>\n",
       "    </tr>\n",
       "    <tr>\n",
       "      <th>207</th>\n",
       "      <td>Total Commercial Vehicles (CVs)</td>\n",
       "      <td>Total Commercial Vehicles (CVs)</td>\n",
       "      <td>2012-13</td>\n",
       "      <td>831744.0</td>\n",
       "    </tr>\n",
       "    <tr>\n",
       "      <th>210</th>\n",
       "      <td>Three Wheelers</td>\n",
       "      <td>Total Three Wheelers</td>\n",
       "      <td>2012-13</td>\n",
       "      <td>839742.0</td>\n",
       "    </tr>\n",
       "    <tr>\n",
       "      <th>214</th>\n",
       "      <td>Two wheelers</td>\n",
       "      <td>Total Two wheelers</td>\n",
       "      <td>2012-13</td>\n",
       "      <td>15721180.0</td>\n",
       "    </tr>\n",
       "    <tr>\n",
       "      <th>215</th>\n",
       "      <td>Grand Total</td>\n",
       "      <td>Grand Total</td>\n",
       "      <td>2012-13</td>\n",
       "      <td>20626227.0</td>\n",
       "    </tr>\n",
       "  </tbody>\n",
       "</table>\n",
       "<p>84 rows × 4 columns</p>\n",
       "</div>"
      ],
      "text/plain": [
       "                               Category                          Segment  \\\n",
       "2              Passenger Vehicles (PVs)   Total Passenger Vehicles (PVs)   \n",
       "5    Commercial Vehicles (CVs) M & HCVs                   Total M & HCVs   \n",
       "8                                  LCVs                       Total LCVs   \n",
       "9       Total Commercial Vehicles (CVs)  Total Commercial Vehicles (CVs)   \n",
       "12                       Three Wheelers             Total Three Wheelers   \n",
       "..                                  ...                              ...   \n",
       "206                                LCVs                       Total LCVs   \n",
       "207     Total Commercial Vehicles (CVs)  Total Commercial Vehicles (CVs)   \n",
       "210                      Three Wheelers             Total Three Wheelers   \n",
       "214                        Two wheelers               Total Two wheelers   \n",
       "215                         Grand Total                      Grand Total   \n",
       "\n",
       "        Year  Num_of_Units  \n",
       "2    2001-02      669719.0  \n",
       "5    2001-02       96752.0  \n",
       "8    2001-02       65756.0  \n",
       "9    2001-02      162508.0  \n",
       "12   2001-02      212748.0  \n",
       "..       ...           ...  \n",
       "206  2012-13      553184.0  \n",
       "207  2012-13      831744.0  \n",
       "210  2012-13      839742.0  \n",
       "214  2012-13    15721180.0  \n",
       "215  2012-13    20626227.0  \n",
       "\n",
       "[84 rows x 4 columns]"
      ]
     },
     "execution_count": 14,
     "metadata": {},
     "output_type": "execute_result"
    }
   ],
   "source": [
    "df_totals = df[df['Segment'].str.contains('Total')]\n",
    "df_totals"
   ]
  },
  {
   "cell_type": "code",
   "execution_count": 193,
   "metadata": {},
   "outputs": [
    {
     "data": {
      "text/html": [
       "<div>\n",
       "<style scoped>\n",
       "    .dataframe tbody tr th:only-of-type {\n",
       "        vertical-align: middle;\n",
       "    }\n",
       "\n",
       "    .dataframe tbody tr th {\n",
       "        vertical-align: top;\n",
       "    }\n",
       "\n",
       "    .dataframe thead th {\n",
       "        text-align: right;\n",
       "    }\n",
       "</style>\n",
       "<table border=\"1\" class=\"dataframe\">\n",
       "  <thead>\n",
       "    <tr style=\"text-align: right;\">\n",
       "      <th></th>\n",
       "      <th>Column</th>\n",
       "      <th>Total_Count</th>\n",
       "      <th>Null_Count</th>\n",
       "      <th>Null_percentage</th>\n",
       "      <th>Distinct_Count</th>\n",
       "      <th>Distinct_percentage</th>\n",
       "    </tr>\n",
       "  </thead>\n",
       "  <tbody>\n",
       "    <tr>\n",
       "      <th>0</th>\n",
       "      <td>Category</td>\n",
       "      <td>84</td>\n",
       "      <td>0</td>\n",
       "      <td>0.0</td>\n",
       "      <td>7</td>\n",
       "      <td>8.33</td>\n",
       "    </tr>\n",
       "    <tr>\n",
       "      <th>1</th>\n",
       "      <td>Segment</td>\n",
       "      <td>84</td>\n",
       "      <td>0</td>\n",
       "      <td>0.0</td>\n",
       "      <td>7</td>\n",
       "      <td>8.33</td>\n",
       "    </tr>\n",
       "    <tr>\n",
       "      <th>2</th>\n",
       "      <td>Year</td>\n",
       "      <td>84</td>\n",
       "      <td>0</td>\n",
       "      <td>0.0</td>\n",
       "      <td>12</td>\n",
       "      <td>14.29</td>\n",
       "    </tr>\n",
       "    <tr>\n",
       "      <th>3</th>\n",
       "      <td>Num_of_Units</td>\n",
       "      <td>84</td>\n",
       "      <td>0</td>\n",
       "      <td>0.0</td>\n",
       "      <td>84</td>\n",
       "      <td>100.00</td>\n",
       "    </tr>\n",
       "  </tbody>\n",
       "</table>\n",
       "</div>"
      ],
      "text/plain": [
       "         Column  Total_Count  Null_Count  Null_percentage  Distinct_Count  \\\n",
       "0      Category           84           0              0.0               7   \n",
       "1       Segment           84           0              0.0               7   \n",
       "2          Year           84           0              0.0              12   \n",
       "3  Num_of_Units           84           0              0.0              84   \n",
       "\n",
       "   Distinct_percentage  \n",
       "0                 8.33  \n",
       "1                 8.33  \n",
       "2                14.29  \n",
       "3               100.00  "
      ]
     },
     "execution_count": 193,
     "metadata": {},
     "output_type": "execute_result"
    }
   ],
   "source": [
    "pd.DataFrame().from_records([{\"Column\":col,\n",
    "                              \"Total_Count\": len(df_totals), \n",
    "                              \"Null_Count\":df_totals[col].isna().sum(),\n",
    "                              \"Null_percentage\":np.round(df_totals[col].isna().sum()/len(df_totals), 4)*100, \n",
    "                              \"Distinct_Count\":len(df_totals[col].unique()), \n",
    "                              \"Distinct_percentage\":np.round(len(df_totals[col].unique())/len(df_totals), 4)*100, \n",
    "                              } for col in df_totals.columns\n",
    "                            ])"
   ]
  },
  {
   "cell_type": "markdown",
   "metadata": {},
   "source": [
    "We will not drop any data points now, since the total values are not null. We can wait and see if those missing values will be used later and take a decision at that point."
   ]
  },
  {
   "cell_type": "markdown",
   "metadata": {
    "id": "hmpHcR9YBv5R"
   },
   "source": [
    "# Visualisation Questions - 2 X 5 = 10 Marks"
   ]
  },
  {
   "cell_type": "markdown",
   "metadata": {
    "id": "63SFdkBYBv5S"
   },
   "source": [
    "### Question 1\n",
    "<h4>Compare the production of passenger vehicles and commercial vehicles in India from 2001-02 to 2012-13, in a single visual.<br><br>\n",
    "    Write the python code in the below cell to create appropriate visual to perform the above task.\n",
    "<h4>Answer in markdown cells below the visual <br><br>\n",
    "    1.Summarise your findings from the visual.<br>\n",
    "    2.The reason for selecting the chart type you did. <br>\n",
    "    3.Mention the pre-attentive attributes used.(atleast 2)<br>\n",
    "    4.Mention the gestalt principles used.(atleast 2)<br>\n",
    "    5.Fill in the blanks:<br><br>\n",
    "    <i>1.In percentage terms, the total growth recorded for passenger vehicles is ______ during the period from 2001-02 to 2012-13.</i><br><br>\n",
    "    <i>2.In percentage terms, the total growth recorded for commercial vehicles is ______ during the period from 2001-02 to 2012-13."
   ]
  },
  {
   "cell_type": "code",
   "execution_count": 194,
   "metadata": {},
   "outputs": [],
   "source": [
    "pv_cv_df = df_totals[df_totals['Segment'].isin(['Total Passenger Vehicles (PVs)','Total Commercial Vehicles (CVs)'])]"
   ]
  },
  {
   "cell_type": "code",
   "execution_count": 195,
   "metadata": {},
   "outputs": [],
   "source": [
    "d1 = pv_cv_df[pv_cv_df[\"Year\"]=='2001-02']\n",
    "d1 = d1[d1['Category']=='Passenger Vehicles (PVs)']\n",
    "x = d1['Num_of_Units']\n",
    "\n",
    "d2 = pv_cv_df[pv_cv_df[\"Year\"]=='2012-13']\n",
    "d2 = d2[d2['Category']=='Passenger Vehicles (PVs)']\n",
    "y = d2['Num_of_Units']\n"
   ]
  },
  {
   "cell_type": "code",
   "execution_count": 196,
   "metadata": {
    "id": "UGibbaaOBv5T"
   },
   "outputs": [
    {
     "data": {
      "image/png": "[encoded data removed]",
      "text/plain": [
       "<Figure size 720x432 with 1 Axes>"
      ]
     },
     "metadata": {},
     "output_type": "display_data"
    }
   ],
   "source": [
    "sns.set(rc={'figure.figsize':(10,6)})\n",
    "sns.lineplot(data=pv_cv_df, x=\"Year\", y=\"Num_of_Units\",hue=\"Segment\", units=None, estimator=None)\n",
    "plt.ticklabel_format(style='plain', axis='y')\n",
    "plt.axvspan(11,7,alpha=0.5,color='grey')\n",
    "plt.show()"
   ]
  },
  {
   "cell_type": "markdown",
   "metadata": {},
   "source": [
    "1. Passenger Vehicles have had a very steep growth since 2008-09, after the recession period. The growth of Commercial vehicles has been less comparatively.\n",
    "2. Line chart has been chosen since it is the best in portraying time series/change over a period of time.\n",
    "3. Preattentive attributes - Color and Position\n",
    "4. Gestalt Principles - Continuation, Similarity, Figure/Ground \n",
    "5.Fill in the blanks:<br>\n",
    "    1.In percentage terms, the total growth recorded for passenger vehicles is 382.82% during the period from 2001-02 to 2012-13.<br>\n",
    "    2.In percentage terms, the total growth recorded for commercial vehicles is 411.81% during the period from 2001-02 to 2012-13."
   ]
  },
  {
   "cell_type": "markdown",
   "metadata": {
    "id": "8oYQhdeCBv5U"
   },
   "source": [
    "### Question 2\n",
    "<h4>Analyse the passenger vehicle production(segment wise) during 2001-02 to 2012-13<br><br>\n",
    "    Write the python code in the below cell to create the appropriate visual(single visual) to perform the above task .\n",
    "<h4>Answer in markdown cells below the visual <br><br>\n",
    "    1.Summarise your findings from the visual.<br>\n",
    "    2.The reason for selecting the chart type you did. <br>\n",
    "    3.Mention the pre-attentive attributes used.(atleast 2)<br>\n",
    "    4.Mention the gestalt principles used.(atleast 2)<br>\n",
    "    5.Fill in the blanks.<br>\n",
    "    \n",
    "   <i>1.In percentage terms, the growth of production of passenger cars in India was ________ during the period from 2001-02 to 2012-13</i><br><br>\n",
    "    <i>2.In percentage terms, the growth the production of Multi-Utility Vehicles in India was ________ during the period from 2001-02 to 2012-13."
   ]
  },
  {
   "cell_type": "code",
   "execution_count": 197,
   "metadata": {},
   "outputs": [],
   "source": [
    "pv_df = df_without_totals[df_without_totals['Category']=='Passenger Vehicles (PVs)']"
   ]
  },
  {
   "cell_type": "code",
   "execution_count": 198,
   "metadata": {
    "id": "wIGj8I2sBv5V"
   },
   "outputs": [
    {
     "data": {
      "image/png": "[encoded data removed]",
      "text/plain": [
       "<Figure size 720x432 with 1 Axes>"
      ]
     },
     "metadata": {},
     "output_type": "display_data"
    }
   ],
   "source": [
    "sns.set(rc={'figure.figsize':(10,6)})\n",
    "sns.barplot(data=pv_df, x=\"Year\", y=\"Num_of_Units\",hue=\"Segment\")\n",
    "plt.ticklabel_format(style='plain', axis='y')\n",
    "plt.show()"
   ]
  },
  {
   "cell_type": "markdown",
   "metadata": {
    "id": "BdQ0_64nBv5W"
   },
   "source": [
    "1. Passenger cars have contributed more towards the growth in this category.\n",
    "2. Reason for selecting bar chart - so that we can indicate which segments moved up/down in a given year. This would not be so evident in a line chart.\n",
    "3. Preattentive attributes - Color and Size\n",
    "4. Gestalt Principles - Continuation, Similarity, Figure/Ground \n",
    "5. Fill in the blanks.<br>\n",
    "    1.In percentage terms, the growth of production of passenger cars in India was 433.40% during the period from 2001-02 to 2012-13.<br>\n",
    "    2.In percentage terms, the growth the production of Multi-Utility Vehicles in India was 233.45% during the period from 2001-02 to 2012-13."
   ]
  },
  {
   "cell_type": "markdown",
   "metadata": {
    "id": "ruJ-tWaABv5W"
   },
   "source": [
    "### Question 3\n",
    "<h4>Compare the production of 2 wheeler and three wheelers in India from 2001-02 to 2012-13, in a single visual.<br><br>\n",
    "    Write the python code in the below cell to create appropriate visual to perform the above task.\n",
    "<h4>Answer in markdown cells below the visual <br><br>\n",
    "    1.Summarise your findings from the visual.<br>\n",
    "    2.The reason for selecting the chart type you did. <br>\n",
    "    3.Mention the pre-attentive attributes used.(atleast 2)<br>\n",
    "    4.Mention the gestalt principles used.(atleast 2)<br>\n",
    "    "
   ]
  },
  {
   "cell_type": "code",
   "execution_count": 201,
   "metadata": {
    "id": "LDkyuVzWBv5X"
   },
   "outputs": [],
   "source": [
    "twv_thv_df = df_totals[df_totals['Segment'].isin(['Total Three Wheelers','Total Two wheelers'])]"
   ]
  },
  {
   "cell_type": "code",
   "execution_count": 202,
   "metadata": {
    "id": "9bupsQgCBv5X"
   },
   "outputs": [
    {
     "data": {
      "image/png": "[encoded data removed]",
      "text/plain": [
       "<Figure size 720x432 with 1 Axes>"
      ]
     },
     "metadata": {},
     "output_type": "display_data"
    }
   ],
   "source": [
    "sns.set(rc={'figure.figsize':(10,6)})\n",
    "sns.lineplot(data=twv_thv_df, x=\"Year\", y=\"Num_of_Units\",hue=\"Segment\")\n",
    "plt.ticklabel_format(style='plain', axis='y')\n",
    "plt.axvspan(11,7,alpha=0.5,color='grey')\n",
    "plt.show()"
   ]
  },
  {
   "cell_type": "markdown",
   "metadata": {},
   "source": [
    "1. In absolute number of vehicles produced, number of two wheelers are way higher than the number of three wheelers produced. But the percentage increase is almost equal for both from 2001-02 to 2012-13 with 294.17% increase for three wheelers and 268.06% increase for two wheelers.\n",
    "2. Line chart has been chosen since it is the best in portraying time series/change over a period of time.\n",
    "3. Preattentive attributes - Color and Size\n",
    "4. Gestalt Principles - Continuation, Similarity, Figure/Ground "
   ]
  },
  {
   "cell_type": "markdown",
   "metadata": {
    "id": "m-iQi3H1Bv5Y"
   },
   "source": [
    "### Question 4\n",
    "<h4>Analyse the two wheeler production in India(segment wise) during 2001-02 to 2012-13.<br><br>\n",
    "    Write the python code in the below cell to create the appropriate visual(single visual) to perform the above task .\n",
    "<h4>Answer in markdown cells below the visual <br><br>\n",
    "    1.Summarise your findings from the visual.<br>\n",
    "    2.The reason for selecting the chart type you did. <br>\n",
    "    3.Mention the pre-attentive attributes used.(atleast 2)<br>\n",
    "    4.Mention the gestalt principles used.(atleast 2)<br>\n",
    "    "
   ]
  },
  {
   "cell_type": "code",
   "execution_count": 204,
   "metadata": {
    "id": "Hf4uMET-Bv5Y"
   },
   "outputs": [],
   "source": [
    "twv_df = df_without_totals[df_without_totals['Category']=='Two wheelers']"
   ]
  },
  {
   "cell_type": "code",
   "execution_count": 205,
   "metadata": {},
   "outputs": [
    {
     "data": {
      "image/png": "[encoded data removed]",
      "text/plain": [
       "<Figure size 720x432 with 1 Axes>"
      ]
     },
     "metadata": {},
     "output_type": "display_data"
    }
   ],
   "source": [
    "sns.set(rc={'figure.figsize':(10,6)})\n",
    "sns.barplot(data=twv_df, x=\"Year\", y=\"Num_of_Units\",hue=\"Segment\")\n",
    "plt.ticklabel_format(style='plain', axis='y')\n",
    "plt.show()"
   ]
  },
  {
   "cell_type": "markdown",
   "metadata": {},
   "source": [
    "1. All the three segments have seen positive growth in units produced from 2001-02 to 2012-13. Though in absolute numbers, motorcycles have contributed the most in terms of total units produced.\n",
    "2. Reason for selecting bar chart - so that we can indicate which segments moved up/down in a given year. This would not be so evident in a line chart.\n",
    "3. Preattentive attributes - Color and Size\n",
    "4. Gestalt Principles - Continuation, Similarity, Figure/Ground "
   ]
  },
  {
   "cell_type": "markdown",
   "metadata": {
    "id": "BfF6-kAJBv5Y"
   },
   "source": [
    "### Question 5"
   ]
  },
  {
   "cell_type": "markdown",
   "metadata": {
    "id": "NPJ0V7TIBv5Z"
   },
   "source": [
    "<h4>Analyse the three wheeler production in India(segment wise) during 2001-02 to 2012-13.<br><br>\n",
    "    Write the python code in the below cell to create the appropriate visual(single visual) to perform the above task .\n",
    "<h4>Answer in markdown cells below the visual <br><br>\n",
    "    1.Summarise your findings from the visual.<br>\n",
    "    2.The reason for selecting the chart type you did. <br>\n",
    "    3.Mention the pre-attentive attributes used.(atleast 2)<br>\n",
    "    4.Mention the gestalt principles used.(atleast 2)<br>\n",
    "    "
   ]
  },
  {
   "cell_type": "code",
   "execution_count": 206,
   "metadata": {},
   "outputs": [],
   "source": [
    "thv_df = df_without_totals[df_without_totals['Category']=='Three Wheelers']"
   ]
  },
  {
   "cell_type": "code",
   "execution_count": 207,
   "metadata": {},
   "outputs": [
    {
     "data": {
      "image/png": "[encoded data removed]",
      "text/plain": [
       "<Figure size 720x432 with 1 Axes>"
      ]
     },
     "metadata": {},
     "output_type": "display_data"
    }
   ],
   "source": [
    "sns.set(rc={'figure.figsize':(10,6)})\n",
    "sns.barplot(data=thv_df, x=\"Year\", y=\"Num_of_Units\",hue=\"Segment\")\n",
    "\n",
    "plt.ticklabel_format(style='plain', axis='y')\n",
    "plt.show()"
   ]
  },
  {
   "cell_type": "markdown",
   "metadata": {},
   "source": [
    "1. For the period from 2001-02 to 2009-10, the number of units produced in the passenger carriers segment has seen a steady year on year increase except in 2004-05 and 2007-08. Whereas, the goods carriers hasve seen an increase till 2006-07 and then the production fell till 2008-09. Post this, there was a rise in 2009-10.\n",
    "2. Reason for selecting bar chart - so that we can indicate which segments moved up/down in a given year. This would not be so evident in a line chart.\n",
    "3. Preattentive attributes - Color and Size\n",
    "4. Gestalt Principles - Continuation, Similarity, Figure/Ground "
   ]
  },
  {
   "cell_type": "markdown",
   "metadata": {
    "id": "5ZNmwR1HBv5a"
   },
   "source": [
    " # Group's choice-2 Marks\n",
    " \n",
    "#### Frame 1 (more) question which will help in the EDA(Exploratory Data Analysis) of the given data set and answer the same using the best visual.\n",
    " \n",
    " 1. Write the question in a markdown cell\n",
    " 2. Below the question, in a coding cell, write the python code to create the visual to answer the question  \n",
    "\n",
    "<h4> Answer in markdown cells below the visual <br><br>\n",
    "   1.Summarise your findings from the visual.<br>\n",
    "   2.The reason for selecting the chart type you did. <br>\n",
    "   3.Mention the pre-attentive attributes used.(atleast 2)<br>\n",
    "   4.Mention the gestalt principles used.(atleast 2)<br>\n",
    "  "
   ]
  },
  {
   "cell_type": "markdown",
   "metadata": {},
   "source": [
    "#### Analyse the total vehicle production in India across all categories during 2001-02 to 2012-13."
   ]
  },
  {
   "cell_type": "code",
   "execution_count": 15,
   "metadata": {
    "id": "9TEyfaZLBv5b"
   },
   "outputs": [],
   "source": [
    "grand_tot_df = df_totals[df_totals['Category'].isin(['Grand Total'])]"
   ]
  },
  {
   "cell_type": "code",
   "execution_count": 21,
   "metadata": {},
   "outputs": [
    {
     "data": {
      "image/png": "[encoded data removed]",
      "text/plain": [
       "<Figure size 720x432 with 1 Axes>"
      ]
     },
     "metadata": {},
     "output_type": "display_data"
    }
   ],
   "source": [
    "sns.set(rc={'figure.figsize':(10,6)})\n",
    "sns.lineplot(data=grand_tot_df, x=\"Year\", y=\"Num_of_Units\",hue=\"Category\")\n",
    "plt.ticklabel_format(style='plain', axis='y')\n",
    "plt.axvspan(7,5,alpha=0.5,color='grey')\n",
    "plt.show()"
   ]
  },
  {
   "cell_type": "markdown",
   "metadata": {},
   "source": [
    "1. Overall vehicle production in India has increased from 2001-02 to 2012-13. An anomaly can be observed  from 2006-07 to 2007-08 where the productuion has declined marginally and then continues to increase there on.\n",
    "2. Line chart has been chosen since it is the best in portraying time series/change over a period of time.\n",
    "3. Preattentive attributes - Color and Size\n",
    "4. Gestalt Principles - Continuation, Similarity, Figure/Ground "
   ]
  },
  {
   "cell_type": "markdown",
   "metadata": {
    "id": "4ItGgo4oBv5b"
   },
   "source": [
    "<h1><center> ************ END OF ASSIGNMENT ****************</center></h1>"
   ]
  }
 ],
 "metadata": {
  "anaconda-cloud": {},
  "colab": {
   "collapsed_sections": [],
   "name": "dvi-a2-ps6-wb.ipynb",
   "provenance": []
  },
  "kernelspec": {
   "display_name": "Python 3",
   "language": "python",
   "name": "python3"
  },
  "language_info": {
   "codemirror_mode": {
    "name": "ipython",
    "version": 3
   },
   "file_extension": ".py",
   "mimetype": "text/x-python",
   "name": "python",
   "nbconvert_exporter": "python",
   "pygments_lexer": "ipython3",
   "version": "3.8.8"
  }
 },
 "nbformat": 4,
 "nbformat_minor": 1
}
